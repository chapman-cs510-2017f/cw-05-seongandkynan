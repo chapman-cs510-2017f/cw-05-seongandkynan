{
 "cells": [
  {
   "cell_type": "markdown",
   "metadata": {
    "collapsed": false
   },
   "source": [
    "# Complex Plane with subclassing\n",
    "The imported module clpane includes a class ListComplextPlane that subclasses the abstract base class AbsComplexPlain in abscplaine.py. The complex plane is a 2D grid of complex number having the form (x + y\\*1j), where x is a real number part and y\\*1j is an imaginary number part. X and y can be plotted as the coordinates for the horizontal axis and the vertical axis on the plane. The initial plane will be created with given attributes when the ListComplexPlane class gets instantiated. In addition to creating a 2D grid numbers (x + y\\*1j), the class maintains a list of transformation functions in self.fs. The method self.apply will transform each point of the existing complex plane by adding a new function f to self.fs. The method self.zoom will go through all transformations by every function in self.fs in order.     \n",
    "\n",
    "## The initial complex plane\n",
    "The \\__init\\__ function sets up the complex plane with default attributes (xmin=-4, xmax=4, xlen=8, ymin=-4, ymax=4, ylen=8). To find each points on complex plane, a unit value of both x and y axes will be calculated  by ((max - min) / len). Those attributes (xmin, xmax, xlen, ymin, ymax, ylen) can be overridden in self.zoom method.\n",
    "\n",
    "In the following, the class ListComplexPlane will be instantiated with the initial self.plane set up. The next cell will print each point of the complex plane in numeric values."
   ]
  },
  {
   "cell_type": "code",
   "execution_count": 1,
   "metadata": {
    "collapsed": false
   },
   "outputs": [
    {
     "name": "stdout",
     "output_type": "stream",
     "text": [
      "[[(-4-4j), (-3-4j), (-2-4j), (-1-4j), -4j, (1-4j), (2-4j), (3-4j), (4-4j)], [(-4-3j), (-3-3j), (-2-3j), (-1-3j), -3j, (1-3j), (2-3j), (3-3j), (4-3j)], [(-4-2j), (-3-2j), (-2-2j), (-1-2j), -2j, (1-2j), (2-2j), (3-2j), (4-2j)], [(-4-1j), (-3-1j), (-2-1j), (-1-1j), -1j, (1-1j), (2-1j), (3-1j), (4-1j)], [(-4+0j), (-3+0j), (-2+0j), (-1+0j), 0j, (1+0j), (2+0j), (3+0j), (4+0j)], [(-4+1j), (-3+1j), (-2+1j), (-1+1j), 1j, (1+1j), (2+1j), (3+1j), (4+1j)], [(-4+2j), (-3+2j), (-2+2j), (-1+2j), 2j, (1+2j), (2+2j), (3+2j), (4+2j)], [(-4+3j), (-3+3j), (-2+3j), (-1+3j), 3j, (1+3j), (2+3j), (3+3j), (4+3j)], [(-4+4j), (-3+4j), (-2+4j), (-1+4j), 4j, (1+4j), (2+4j), (3+4j), (4+4j)]]\n"
     ]
    }
   ],
   "source": [
    "import cplane\n",
    "lcp = cplane.ListComplexPlane()\n",
    "print(lcp.plane)"
   ]
  },
  {
   "cell_type": "markdown",
   "metadata": {
    "collapsed": false
   },
   "source": [
    "## The method self.apply\n",
    "This method will add a new transformation function to the list attribute self.fs. And it will eventually apply the new function to transform the 2D grid of points in the existing complex plane.\n",
    "\n",
    "In the following, a new tranformation function f2 is setup. This function would transform each complext number by multiplying 2. The method self.apply will add the new function to self.fs. After that, the list fs will be printed. The self.apply method will uses the new function (f2) to transform the initial grid of the complex plane. After that transformation, the updated self.plane will be printed in numerical values."
   ]
  },
  {
   "cell_type": "code",
   "execution_count": 2,
   "metadata": {
    "collapsed": false
   },
   "outputs": [
    {
     "name": "stdout",
     "output_type": "stream",
     "text": [
      "[<function f2 at 0x7f1313b64048>]\n"
     ]
    }
   ],
   "source": [
    "def f2(c): return 2*c\n",
    "lcp.apply(f2)\n",
    "print(lcp.fs)"
   ]
  },
  {
   "cell_type": "code",
   "execution_count": 3,
   "metadata": {
    "collapsed": false
   },
   "outputs": [
    {
     "name": "stdout",
     "output_type": "stream",
     "text": [
      "[[(-8-8j), (-8-6j), (-8-4j), (-8-2j), (-8+0j), (-8+2j), (-8+4j), (-8+6j), (-8+8j)], [(-6-8j), (-6-6j), (-6-4j), (-6-2j), (-6+0j), (-6+2j), (-6+4j), (-6+6j), (-6+8j)], [(-4-8j), (-4-6j), (-4-4j), (-4-2j), (-4+0j), (-4+2j), (-4+4j), (-4+6j), (-4+8j)], [(-2-8j), (-2-6j), (-2-4j), (-2-2j), (-2+0j), (-2+2j), (-2+4j), (-2+6j), (-2+8j)], [-8j, -6j, -4j, -2j, 0j, 2j, 4j, 6j, 8j], [(2-8j), (2-6j), (2-4j), (2-2j), (2+0j), (2+2j), (2+4j), (2+6j), (2+8j)], [(4-8j), (4-6j), (4-4j), (4-2j), (4+0j), (4+2j), (4+4j), (4+6j), (4+8j)], [(6-8j), (6-6j), (6-4j), (6-2j), (6+0j), (6+2j), (6+4j), (6+6j), (6+8j)], [(8-8j), (8-6j), (8-4j), (8-2j), (8+0j), (8+2j), (8+4j), (8+6j), (8+8j)]]\n"
     ]
    }
   ],
   "source": [
    "print(lcp.plane)"
   ]
  },
  {
   "cell_type": "markdown",
   "metadata": {
    "collapsed": false
   },
   "source": [
    "### Another new function f3 is applied.\n",
    "This function will sqaure each complex number."
   ]
  },
  {
   "cell_type": "code",
   "execution_count": 4,
   "metadata": {
    "collapsed": false
   },
   "outputs": [
    {
     "name": "stdout",
     "output_type": "stream",
     "text": [
      "[<function f2 at 0x7f1313b64048>, <function f3 at 0x7f1313b64158>]\n"
     ]
    }
   ],
   "source": [
    "def f3(c): return c*c\n",
    "lcp.apply(f3)\n",
    "print(lcp.fs)"
   ]
  },
  {
   "cell_type": "code",
   "execution_count": 5,
   "metadata": {
    "collapsed": false,
    "scrolled": true
   },
   "outputs": [
    {
     "name": "stdout",
     "output_type": "stream",
     "text": [
      "[[128j, (-28+96j), (-48+64j), (-60+32j), (-64-0j), (-60-32j), (-48-64j), (-28-96j), -128j], [(28+96j), 72j, (-20+48j), (-32+24j), (-36-0j), (-32-24j), (-20-48j), -72j, (28-96j)], [(48+64j), (20+48j), 32j, (-12+16j), (-16-0j), (-12-16j), -32j, (20-48j), (48-64j)], [(60+32j), (32+24j), (12+16j), 8j, (-4-0j), -8j, (12-16j), (32-24j), (60-32j)], [(64-0j), (36-0j), (16-0j), (4-0j), 0j, (4+0j), (16+0j), (36+0j), (64+0j)], [(60-32j), (32-24j), (12-16j), -8j, (-4+0j), 8j, (12+16j), (32+24j), (60+32j)], [(48-64j), (20-48j), -32j, (-12-16j), (-16+0j), (-12+16j), 32j, (20+48j), (48+64j)], [(28-96j), -72j, (-20-48j), (-32-24j), (-36+0j), (-32+24j), (-20+48j), 72j, (28+96j)], [-128j, (-28-96j), (-48-64j), (-60-32j), (-64+0j), (-60+32j), (-48+64j), (-28+96j), 128j]]\n"
     ]
    }
   ],
   "source": [
    "print(lcp.plane)"
   ]
  },
  {
   "cell_type": "markdown",
   "metadata": {
    "collapsed": false
   },
   "source": [
    "### The method self.zoom\n",
    "This method will re-draw the 2D grid of the complex plane by changing the attributes of xmin, xmax, xlen, ymin, ymax, ylen. After than, it will run through all transformation functions in self.fs in order. In this example, the first function will multiply it by 2 and the second function will squre it. The final complext plane will be the result of accumulated runs of all functions.\n",
    "\n",
    "In the following, after the method self.zoom runs, all new attributes are printed. And the final values of the complex plane will be also printed in numerical format."
   ]
  },
  {
   "cell_type": "code",
   "execution_count": 6,
   "metadata": {
    "collapsed": false
   },
   "outputs": [
    {
     "name": "stdout",
     "output_type": "stream",
     "text": [
      "running the function 1\n",
      "running the function 2\n",
      "New Attributes:  -2 2 4 -2 2 4\n",
      "Transformation functions:  [<function f2 at 0x7f1313b64048>, <function f3 at 0x7f1313b64158>]\n"
     ]
    }
   ],
   "source": [
    "lcp.zoom(-2,2,4,-2,2,4)\n",
    "print(\"New Attributes: \", lcp.xmin, lcp.xmax, lcp.xlen, lcp.ymin, lcp.ymax, lcp.ylen)\n",
    "print(\"Transformation functions: \", lcp.fs)"
   ]
  },
  {
   "cell_type": "code",
   "execution_count": 7,
   "metadata": {
    "collapsed": false
   },
   "outputs": [
    {
     "name": "stdout",
     "output_type": "stream",
     "text": [
      "[[32j, (-12+16j), (-16-0j), (-12-16j), -32j], [(12+16j), 8j, (-4-0j), -8j, (12-16j)], [(16-0j), (4-0j), 0j, (4+0j), (16+0j)], [(12-16j), -8j, (-4+0j), 8j, (12+16j)], [-32j, (-12-16j), (-16+0j), (-12+16j), 32j]]\n"
     ]
    }
   ],
   "source": [
    "print(lcp.plane)"
   ]
  },
  {
   "cell_type": "markdown",
   "metadata": {
    "collapsed": false
   },
   "source": [
    "### The method self.refresh\n",
    "This method will redraw the complex plane using the currently stored attributes of xmin, xmax, xlen, ymin, ymax, ylen. After that, it will make the transformation function list self.fs empty.\n",
    "In the following, the empty transformation function list self.fs will be printed. After that, it will print and plot the 2D grid points of the complex plane drawn with the stored attributes. "
   ]
  },
  {
   "cell_type": "code",
   "execution_count": 8,
   "metadata": {
    "collapsed": false
   },
   "outputs": [
    {
     "name": "stdout",
     "output_type": "stream",
     "text": [
      "See there is no transformation function left: []\n",
      "[[(-2-2j), (-1-2j), -2j, (1-2j), (2-2j)], [(-2-1j), (-1-1j), -1j, (1-1j), (2-1j)], [(-2+0j), (-1+0j), 0j, (1+0j), (2+0j)], [(-2+1j), (-1+1j), 1j, (1+1j), (2+1j)], [(-2+2j), (-1+2j), 2j, (1+2j), (2+2j)]]\n"
     ]
    }
   ],
   "source": [
    "lcp.refresh()\n",
    "print(\"See there is no transformation function left:\", lcp.fs)\n",
    "print(lcp.plane)"
   ]
  }
 ],
 "metadata": {
  "kernelspec": {
   "display_name": "Python 3 (Anaconda)",
   "language": "python",
   "name": "anaconda3"
  },
  "language_info": {
   "codemirror_mode": {
    "name": "ipython",
    "version": 3
   },
   "file_extension": ".py",
   "mimetype": "text/x-python",
   "name": "python",
   "nbconvert_exporter": "python",
   "pygments_lexer": "ipython3",
   "version": "3.5.4"
  }
 },
 "nbformat": 4,
 "nbformat_minor": 0
}