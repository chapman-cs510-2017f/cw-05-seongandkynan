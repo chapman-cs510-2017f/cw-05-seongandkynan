{
 "cells": [
  {
   "cell_type": "markdown",
   "metadata": {},
   "source": [
    "# Peer Review of CW-04\n",
    "# Kynan Barton and Seong Heon Lee"
   ]
  },
  {
   "cell_type": "markdown",
   "metadata": {},
   "source": [
    "# Critique of Seong's code\n",
    "\n",
    "\n",
    "1. May add more details throughout the codes for a better understanding.\n",
    "2. Needs to add more details in doctstrings. \n",
    "3. Use a prime_check function, instead of starting with a list, from which you need to remove non-prime number. This will effectively create a list generator in a separate function that deals with the addition of prime numbers, cutting out the removal and appending within one list.\n",
    "4. Add the evaluation of the benchmark test discussing the pros and cons of each.\n",
    "5. Very good formatting for the jupyter notebook as well as headings of docstrings.\n",
    "\n",
    "Rating Scale (0-100): 98"
   ]
  },
  {
   "cell_type": "markdown",
   "metadata": {},
   "source": [
    "# Critique of Kynan's code\n",
    "\n",
    "1. There is no need to add \"import primes\" in every cell. \n",
    "2. Very good and detailed description of the code.\n",
    "3. No need to include the code in the Jupyter notebook (import is enough).\n",
    "4. Missing module docstring at the top.\n",
    "5. Like the generator function that uses a prime_check function.\n",
    "6. No need gen_ints generator, because you have for _ in range().\n",
    "7. Add more test functions.\n",
    "8. Change the last cell to Markdown. Texts appears as codes.\n",
    "9. Add the expectation of the code before benchmark test, this will allow for a more detailed discussion between methods.\n",
    "\n",
    "Rating Scale (0-100): 95"
   ]
  }
 ],
 "metadata": {
  "kernelspec": {
   "display_name": "Python 3",
   "language": "python",
   "name": "python3"
  },
  "language_info": {
   "codemirror_mode": {
    "name": "ipython",
    "version": 3
   },
   "file_extension": ".py",
   "mimetype": "text/x-python",
   "name": "python",
   "nbconvert_exporter": "python",
   "pygments_lexer": "ipython3",
   "version": "3.6.1"
  }
 },
 "nbformat": 4,
 "nbformat_minor": 1
}
